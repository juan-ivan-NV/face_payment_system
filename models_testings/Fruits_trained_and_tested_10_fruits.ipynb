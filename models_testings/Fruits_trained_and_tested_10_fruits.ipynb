{
  "nbformat": 4,
  "nbformat_minor": 0,
  "metadata": {
    "colab": {
      "name": "Fruits_trained_and_tested.ipynb",
      "provenance": [],
      "collapsed_sections": []
    },
    "kernelspec": {
      "name": "python3",
      "display_name": "Python 3"
    }
  },
  "cells": [
    {
      "cell_type": "markdown",
      "metadata": {
        "id": "anTsM-zWm9AH",
        "colab_type": "text"
      },
      "source": [
        "# Training our own model with 10 fruit images and a CNN keras"
      ]
    },
    {
      "cell_type": "markdown",
      "metadata": {
        "id": "Dhcpozm0njmO",
        "colab_type": "text"
      },
      "source": [
        "### Some libraries"
      ]
    },
    {
      "cell_type": "code",
      "metadata": {
        "id": "VKoQnuSbURWz",
        "colab_type": "code",
        "colab": {}
      },
      "source": [
        "import numpy as np \n",
        "import pandas as pd \n",
        "import os\n",
        "import matplotlib.pyplot as plt\n",
        "import cv2\n",
        "\n",
        "from keras.utils import to_categorical\n",
        "from keras.layers import Dense,Conv2D,Flatten,MaxPool2D,Dropout\n",
        "from keras.models import Sequential\n",
        "\n",
        "from sklearn.model_selection import train_test_split\n",
        "np.random.seed(1)"
      ],
      "execution_count": 0,
      "outputs": []
    },
    {
      "cell_type": "markdown",
      "metadata": {
        "id": "Y_xpf26GnrJ-",
        "colab_type": "text"
      },
      "source": [
        "### Processing training images"
      ]
    },
    {
      "cell_type": "code",
      "metadata": {
        "id": "QTOgLTHzVCqA",
        "colab_type": "code",
        "colab": {}
      },
      "source": [
        "# lists to agregate names and arrays images\n",
        "\n",
        "train_img = []\n",
        "train_lab = []\n",
        "train_nam = []"
      ],
      "execution_count": 0,
      "outputs": []
    },
    {
      "cell_type": "code",
      "metadata": {
        "id": "MtWugEPhXHTT",
        "colab_type": "code",
        "colab": {}
      },
      "source": [
        "# loop over dir´s\n",
        "\n",
        "path = 'ftrain'\n",
        "\n",
        "for name in os.listdir('ftrain'):\n",
        "  for filename in os.listdir(f'ftrain/{name}'):\n",
        "    if 'jpg' in filename:\n",
        "      #print(name)\n",
        "      img = cv2.imread(os.path.join(path,name,filename))\n",
        "      #img = cv2.resize(img,(250,250))\n",
        "      train_img.append(img)\n",
        "      train_nam.append(str(name))\n",
        "      "
      ],
      "execution_count": 0,
      "outputs": []
    },
    {
      "cell_type": "code",
      "metadata": {
        "id": "ll5JzC8Vgywl",
        "colab_type": "code",
        "colab": {
          "base_uri": "https://localhost:8080/",
          "height": 50
        },
        "outputId": "78a41544-152c-4228-be5d-641abbc82d36"
      },
      "source": [
        "print(set(train_nam))\n",
        "print(len(train_nam))"
      ],
      "execution_count": 154,
      "outputs": [
        {
          "output_type": "stream",
          "text": [
            "{'Lemon', 'Blueberry', 'Avocado ripe', 'Banana', 'Onion Red Peeled', 'Apple Red Delicious', 'Potato White', 'Orange', 'Pepper Green', 'Tomato'}\n",
            "4722\n"
          ],
          "name": "stdout"
        }
      ]
    },
    {
      "cell_type": "code",
      "metadata": {
        "id": "m-8NF1qeeC75",
        "colab_type": "code",
        "colab": {}
      },
      "source": [
        "# change name to numerical\n",
        "\n",
        "def nam_to_num(lst):\n",
        "  labels = []\n",
        "  for name in lst:\n",
        "    if 'Apple Red Delicious' == name: labels.append(0)\n",
        "    elif 'Avocado ripe' == name:labels.append(1)\n",
        "    elif 'Banana' == name:labels.append(2)\n",
        "    elif 'Blueberry' == name:labels.append(3)\n",
        "    elif 'Lemon' == name:labels.append(4)\n",
        "    elif 'Onion Red Peeled' == name: labels.append(5)\n",
        "    elif 'Orange' == name: labels.append(6)\n",
        "    elif 'Pepper Green' == name: labels.append(7)\n",
        "    elif 'Potato White' == name: labels.append(8)\n",
        "    elif 'Tomato' == name: labels.append(9)\n",
        "  return labels\n"
      ],
      "execution_count": 0,
      "outputs": []
    },
    {
      "cell_type": "code",
      "metadata": {
        "id": "rvGzvQaehpb3",
        "colab_type": "code",
        "colab": {
          "base_uri": "https://localhost:8080/",
          "height": 50
        },
        "outputId": "b386543a-6668-42ca-8e4e-657c1a2884b3"
      },
      "source": [
        "train_lab = nam_to_num(train_nam)\n",
        "print(set(train_lab))\n",
        "print(len(train_lab))"
      ],
      "execution_count": 156,
      "outputs": [
        {
          "output_type": "stream",
          "text": [
            "{0, 1, 2, 3, 4, 5, 6, 7, 8, 9}\n",
            "4722\n"
          ],
          "name": "stdout"
        }
      ]
    },
    {
      "cell_type": "code",
      "metadata": {
        "id": "pRf6VTTFiNcE",
        "colab_type": "code",
        "colab": {}
      },
      "source": [
        "# convert labels to categorical and images to arr\n",
        "\n",
        "train_img = np.array(train_img)\n",
        "#train_lab = pd.get_dummies(train_lab).values\n",
        "\n",
        "train_lab = to_categorical(train_lab)\n",
        "#y_test = to_categorical(y_test)"
      ],
      "execution_count": 0,
      "outputs": []
    },
    {
      "cell_type": "code",
      "metadata": {
        "id": "UhwjhWDFhbgf",
        "colab_type": "code",
        "colab": {
          "base_uri": "https://localhost:8080/",
          "height": 34
        },
        "outputId": "7bc7691b-aeaa-4da5-89c3-192ee5de89b4"
      },
      "source": [
        "train_lab[0]"
      ],
      "execution_count": 158,
      "outputs": [
        {
          "output_type": "execute_result",
          "data": {
            "text/plain": [
              "array([0., 0., 0., 1., 0., 0., 0., 0., 0., 0.], dtype=float32)"
            ]
          },
          "metadata": {
            "tags": []
          },
          "execution_count": 158
        }
      ]
    },
    {
      "cell_type": "code",
      "metadata": {
        "id": "uIlTBAJqk71A",
        "colab_type": "code",
        "colab": {
          "base_uri": "https://localhost:8080/",
          "height": 34
        },
        "outputId": "982031ce-9310-4b17-dcfe-86524e99f9bd"
      },
      "source": [
        "train_img[0].shape"
      ],
      "execution_count": 159,
      "outputs": [
        {
          "output_type": "execute_result",
          "data": {
            "text/plain": [
              "(100, 100, 3)"
            ]
          },
          "metadata": {
            "tags": []
          },
          "execution_count": 159
        }
      ]
    },
    {
      "cell_type": "code",
      "metadata": {
        "id": "AaPCNOZklAna",
        "colab_type": "code",
        "colab": {
          "base_uri": "https://localhost:8080/",
          "height": 285
        },
        "outputId": "26f37a07-a24a-4e9c-dbc2-686f60a8ea43"
      },
      "source": [
        "plt.imshow(train_img[0])"
      ],
      "execution_count": 160,
      "outputs": [
        {
          "output_type": "execute_result",
          "data": {
            "text/plain": [
              "<matplotlib.image.AxesImage at 0x7fd2aa550518>"
            ]
          },
          "metadata": {
            "tags": []
          },
          "execution_count": 160
        },
        {
          "output_type": "display_data",
          "data": {
            "image/png": "[encoded data removed]",
            "text/plain": [
              "<Figure size 432x288 with 1 Axes>"
            ]
          },
          "metadata": {
            "tags": [],
            "needs_background": "light"
          }
        }
      ]
    },
    {
      "cell_type": "code",
      "metadata": {
        "id": "w3kjc7ePsTmK",
        "colab_type": "code",
        "colab": {}
      },
      "source": [
        "#X_train,X_test,y_train,y_test = train_test_split(train_img,train_lab,random_state=1)"
      ],
      "execution_count": 0,
      "outputs": []
    },
    {
      "cell_type": "markdown",
      "metadata": {
        "id": "kDd9g6a1mvmi",
        "colab_type": "text"
      },
      "source": [
        "### Same steps with test images set"
      ]
    },
    {
      "cell_type": "code",
      "metadata": {
        "id": "x6wDA9yUmsW-",
        "colab_type": "code",
        "colab": {}
      },
      "source": [
        "test_img = []\n",
        "test_lab = []\n",
        "test_nam = []\n",
        "\n",
        "path = 'ftest'\n",
        "\n",
        "for name in os.listdir(path):\n",
        "  for filename in os.listdir(f'ftest/{name}'):\n",
        "    if 'jpg' in filename:\n",
        "      img = cv2.imread(os.path.join(path,name,filename))\n",
        "      test_img.append(img)\n",
        "      test_nam.append(str(name))\n",
        "\n"
      ],
      "execution_count": 0,
      "outputs": []
    },
    {
      "cell_type": "code",
      "metadata": {
        "id": "XzAXxZWAqzV4",
        "colab_type": "code",
        "colab": {}
      },
      "source": [
        "test_lab = nam_to_num(test_nam)\n",
        "\n"
      ],
      "execution_count": 0,
      "outputs": []
    },
    {
      "cell_type": "code",
      "metadata": {
        "id": "8a9Vfc1Rqzcw",
        "colab_type": "code",
        "colab": {}
      },
      "source": [
        "test_lab = to_categorical(test_lab)\n",
        "\n",
        "test_img = np.array(test_img)"
      ],
      "execution_count": 0,
      "outputs": []
    },
    {
      "cell_type": "code",
      "metadata": {
        "id": "qMlQRDZKuq6b",
        "colab_type": "code",
        "colab": {
          "base_uri": "https://localhost:8080/",
          "height": 50
        },
        "outputId": "832c3a92-3752-464f-aa86-e6d550ddb0af"
      },
      "source": [
        "print(len(test_img))\n",
        "print(len(test_lab))"
      ],
      "execution_count": 165,
      "outputs": [
        {
          "output_type": "stream",
          "text": [
            "1589\n",
            "1589\n"
          ],
          "name": "stdout"
        }
      ]
    },
    {
      "cell_type": "markdown",
      "metadata": {
        "id": "GEWvGveLp1ZS",
        "colab_type": "text"
      },
      "source": [
        "### Building the Convolutional Neural Networck"
      ]
    },
    {
      "cell_type": "code",
      "metadata": {
        "id": "X-ZduLyHmsb7",
        "colab_type": "code",
        "colab": {}
      },
      "source": [
        "model = Sequential()\n",
        "model.add(Conv2D(filters=32, kernel_size = 3, activation='tanh', input_shape=(100,100,3)))\n",
        "model.add(Conv2D(filters=64, kernel_size = 3, activation='tanh'))\n",
        "model.add(MaxPool2D(2,2))\n",
        "model.add(Conv2D(filters=128, kernel_size = 3, activation='tanh'))\n",
        "model.add(MaxPool2D(2,2))\n",
        "model.add(Conv2D(filters=256, kernel_size = 3, activation='tanh'))\n",
        "model.add(MaxPool2D(2, 2))\n",
        "model.add(Flatten())\n",
        "model.add(Dropout(0.5))\n",
        "model.add(Dense(10, activation='softmax'))"
      ],
      "execution_count": 0,
      "outputs": []
    },
    {
      "cell_type": "code",
      "metadata": {
        "id": "kcA4FdJRmseX",
        "colab_type": "code",
        "outputId": "0bcf1b38-80f5-4020-fc57-bda4b2db8d62",
        "colab": {
          "base_uri": "https://localhost:8080/",
          "height": 487
        }
      },
      "source": [
        "model.summary()"
      ],
      "execution_count": 173,
      "outputs": [
        {
          "output_type": "stream",
          "text": [
            "Model: \"sequential_3\"\n",
            "_________________________________________________________________\n",
            "Layer (type)                 Output Shape              Param #   \n",
            "=================================================================\n",
            "conv2d_9 (Conv2D)            (None, 98, 98, 32)        896       \n",
            "_________________________________________________________________\n",
            "conv2d_10 (Conv2D)           (None, 96, 96, 64)        18496     \n",
            "_________________________________________________________________\n",
            "max_pooling2d_7 (MaxPooling2 (None, 48, 48, 64)        0         \n",
            "_________________________________________________________________\n",
            "conv2d_11 (Conv2D)           (None, 46, 46, 128)       73856     \n",
            "_________________________________________________________________\n",
            "max_pooling2d_8 (MaxPooling2 (None, 23, 23, 128)       0         \n",
            "_________________________________________________________________\n",
            "conv2d_12 (Conv2D)           (None, 21, 21, 256)       295168    \n",
            "_________________________________________________________________\n",
            "max_pooling2d_9 (MaxPooling2 (None, 10, 10, 256)       0         \n",
            "_________________________________________________________________\n",
            "flatten_3 (Flatten)          (None, 25600)             0         \n",
            "_________________________________________________________________\n",
            "dropout_3 (Dropout)          (None, 25600)             0         \n",
            "_________________________________________________________________\n",
            "dense_3 (Dense)              (None, 10)                256010    \n",
            "=================================================================\n",
            "Total params: 644,426\n",
            "Trainable params: 644,426\n",
            "Non-trainable params: 0\n",
            "_________________________________________________________________\n"
          ],
          "name": "stdout"
        }
      ]
    },
    {
      "cell_type": "code",
      "metadata": {
        "id": "ou1UPSMGreAK",
        "colab_type": "code",
        "outputId": "cd71af18-616c-4479-c38a-b4f07890b3d4",
        "colab": {
          "base_uri": "https://localhost:8080/",
          "height": 370
        }
      },
      "source": [
        "model.compile(optimizer='adam', loss='categorical_crossentropy', metrics=['accuracy'])\n",
        "history = model.fit(train_img, train_lab, validation_data=(test_img, test_lab), epochs=10)"
      ],
      "execution_count": 174,
      "outputs": [
        {
          "output_type": "stream",
          "text": [
            "Train on 4722 samples, validate on 1589 samples\n",
            "Epoch 1/10\n",
            "4722/4722 [==============================] - 268s 57ms/step - loss: 0.5001 - accuracy: 0.8981 - val_loss: 0.8929 - val_accuracy: 0.8508\n",
            "Epoch 2/10\n",
            "4722/4722 [==============================] - 267s 57ms/step - loss: 0.0633 - accuracy: 0.9879 - val_loss: 0.1370 - val_accuracy: 0.9780\n",
            "Epoch 3/10\n",
            "4722/4722 [==============================] - 268s 57ms/step - loss: 5.0593e-05 - accuracy: 1.0000 - val_loss: 0.1142 - val_accuracy: 0.9874\n",
            "Epoch 4/10\n",
            "4722/4722 [==============================] - 268s 57ms/step - loss: 1.0337e-07 - accuracy: 1.0000 - val_loss: 0.1142 - val_accuracy: 0.9874\n",
            "Epoch 5/10\n",
            "4722/4722 [==============================] - 273s 58ms/step - loss: 1.7889e-07 - accuracy: 1.0000 - val_loss: 0.1141 - val_accuracy: 0.9874\n",
            "Epoch 6/10\n",
            "4722/4722 [==============================] - 269s 57ms/step - loss: 6.9774e-07 - accuracy: 1.0000 - val_loss: 0.1137 - val_accuracy: 0.9874\n",
            "Epoch 7/10\n",
            "4722/4722 [==============================] - 274s 58ms/step - loss: 1.2867e-07 - accuracy: 1.0000 - val_loss: 0.1145 - val_accuracy: 0.9874\n",
            "Epoch 8/10\n",
            "4722/4722 [==============================] - 268s 57ms/step - loss: 8.5698e-08 - accuracy: 1.0000 - val_loss: 0.1144 - val_accuracy: 0.9874\n",
            "Epoch 9/10\n",
            "4722/4722 [==============================] - 267s 57ms/step - loss: 5.2362e-07 - accuracy: 1.0000 - val_loss: 0.1175 - val_accuracy: 0.9874\n",
            "Epoch 10/10\n",
            "4722/4722 [==============================] - 267s 57ms/step - loss: 7.5755e-08 - accuracy: 1.0000 - val_loss: 0.1183 - val_accuracy: 0.9874\n"
          ],
          "name": "stdout"
        }
      ]
    },
    {
      "cell_type": "code",
      "metadata": {
        "id": "8Cq3SbJqu3mR",
        "colab_type": "code",
        "outputId": "507c4291-7401-4d04-f799-eaf12160c83c",
        "colab": {
          "base_uri": "https://localhost:8080/",
          "height": 550
        }
      },
      "source": [
        "plt.plot(history.history['accuracy'])\n",
        "plt.plot(history.history['val_accuracy'])\n",
        "plt.title('model accuracy')\n",
        "plt.ylabel('accuracy')\n",
        "plt.xlabel('epoch')\n",
        "plt.legend(['train','test'], loc = 'uper left')\n",
        "plt.show();"
      ],
      "execution_count": 175,
      "outputs": [
        {
          "output_type": "stream",
          "text": [
            "/usr/local/lib/python3.6/dist-packages/ipykernel_launcher.py:6: MatplotlibDeprecationWarning: Unrecognized location 'uper left'. Falling back on 'best'; valid locations are\n",
            "\tbest\n",
            "\tupper right\n",
            "\tupper left\n",
            "\tlower left\n",
            "\tlower right\n",
            "\tright\n",
            "\tcenter left\n",
            "\tcenter right\n",
            "\tlower center\n",
            "\tupper center\n",
            "\tcenter\n",
            "This will raise an exception in 3.3.\n",
            "  \n"
          ],
          "name": "stderr"
        },
        {
          "output_type": "display_data",
          "data": {
            "image/png": "[encoded data removed]",
            "text/plain": [
              "<Figure size 432x288 with 1 Axes>"
            ]
          },
          "metadata": {
            "tags": [],
            "needs_background": "light"
          }
        }
      ]
    },
    {
      "cell_type": "code",
      "metadata": {
        "id": "6V4KxZ_UvBLO",
        "colab_type": "code",
        "outputId": "69448218-a123-440f-f5f2-a121c183d6ae",
        "colab": {
          "base_uri": "https://localhost:8080/",
          "height": 550
        }
      },
      "source": [
        "plt.plot(history.history['loss'])\n",
        "plt.plot(history.history['val_loss'])\n",
        "plt.title('model loss')\n",
        "plt.ylabel('loss')\n",
        "plt.xlabel('epoch')\n",
        "plt.legend(['train','test'], loc = 'uper left')\n",
        "plt.show();"
      ],
      "execution_count": 176,
      "outputs": [
        {
          "output_type": "stream",
          "text": [
            "/usr/local/lib/python3.6/dist-packages/ipykernel_launcher.py:6: MatplotlibDeprecationWarning: Unrecognized location 'uper left'. Falling back on 'best'; valid locations are\n",
            "\tbest\n",
            "\tupper right\n",
            "\tupper left\n",
            "\tlower left\n",
            "\tlower right\n",
            "\tright\n",
            "\tcenter left\n",
            "\tcenter right\n",
            "\tlower center\n",
            "\tupper center\n",
            "\tcenter\n",
            "This will raise an exception in 3.3.\n",
            "  \n"
          ],
          "name": "stderr"
        },
        {
          "output_type": "display_data",
          "data": {
            "image/png": "[encoded data removed]",
            "text/plain": [
              "<Figure size 432x288 with 1 Axes>"
            ]
          },
          "metadata": {
            "tags": [],
            "needs_background": "light"
          }
        }
      ]
    },
    {
      "cell_type": "code",
      "metadata": {
        "id": "MY5yif_d8APU",
        "colab_type": "code",
        "outputId": "a60dc2bc-b272-40b1-fc9d-3ecbe1a55d0d",
        "colab": {
          "base_uri": "https://localhost:8080/",
          "height": 50
        }
      },
      "source": [
        "checkImage = test_img[600:601]\n",
        "checklabel = test_lab[600:601]\n",
        "\n",
        "predict = model.predict(checkImage)\n",
        "\n",
        "output = { 0:'apple',1:'avocado',2:'banana',3:'blueberry',4:'lemon',5:'onion red',6:'orange',7:'pepper green',8:'potato',9:'tomato'}\n",
        "\n",
        "print(\"Actual :- \",checklabel)\n",
        "print(\"Predicted :- \",output[np.argmax(predict)])"
      ],
      "execution_count": 204,
      "outputs": [
        {
          "output_type": "stream",
          "text": [
            "Actual :-  [[0. 0. 0. 0. 0. 0. 0. 0. 0. 1.]]\n",
            "Predicted :-  tomato\n"
          ],
          "name": "stdout"
        }
      ]
    },
    {
      "cell_type": "code",
      "metadata": {
        "id": "RuwjIS5H8ARx",
        "colab_type": "code",
        "colab": {
          "base_uri": "https://localhost:8080/",
          "height": 285
        },
        "outputId": "7986f2b3-b7a9-4b4c-ef7e-7c70fe60d160"
      },
      "source": [
        "plt.imshow(test_img[600])"
      ],
      "execution_count": 194,
      "outputs": [
        {
          "output_type": "execute_result",
          "data": {
            "text/plain": [
              "<matplotlib.image.AxesImage at 0x7fd2a1b1cac8>"
            ]
          },
          "metadata": {
            "tags": []
          },
          "execution_count": 194
        },
        {
          "output_type": "display_data",
          "data": {
            "image/png": "[encoded data removed]",
            "text/plain": [
              "<Figure size 432x288 with 1 Axes>"
            ]
          },
          "metadata": {
            "tags": [],
            "needs_background": "light"
          }
        }
      ]
    },
    {
      "cell_type": "code",
      "metadata": {
        "id": "iKENg3ElvBOi",
        "colab_type": "code",
        "colab": {
          "base_uri": "https://localhost:8080/",
          "height": 67
        },
        "outputId": "41ba88f5-667e-48c8-f100-1f6f7337b2de"
      },
      "source": [
        "predict"
      ],
      "execution_count": 205,
      "outputs": [
        {
          "output_type": "execute_result",
          "data": {
            "text/plain": [
              "array([[1.5681783e-12, 7.8823133e-37, 0.0000000e+00, 0.0000000e+00,\n",
              "        1.8275327e-37, 3.2540385e-16, 0.0000000e+00, 0.0000000e+00,\n",
              "        1.1393134e-35, 1.0000000e+00]], dtype=float32)"
            ]
          },
          "metadata": {
            "tags": []
          },
          "execution_count": 205
        }
      ]
    },
    {
      "cell_type": "markdown",
      "metadata": {
        "id": "_u1QDijkD_H7",
        "colab_type": "text"
      },
      "source": [
        "### Model saving"
      ]
    },
    {
      "cell_type": "code",
      "metadata": {
        "id": "oigs9pBdvBTv",
        "colab_type": "code",
        "colab": {}
      },
      "source": [
        "# to read: import json  -  from keras.models import model_from_json, load_model\n",
        "model.save_weights('model_weights.h5')\n",
        "with open('model_architecture.json', 'w') as f:\n",
        "    f.write(model.to_json())"
      ],
      "execution_count": 0,
      "outputs": []
    },
    {
      "cell_type": "code",
      "metadata": {
        "id": "0ouV71j7vBWg",
        "colab_type": "code",
        "colab": {}
      },
      "source": [
        "model.save('nmodel.h5')"
      ],
      "execution_count": 0,
      "outputs": []
    },
    {
      "cell_type": "code",
      "metadata": {
        "id": "-FrQuj3LS0MN",
        "colab_type": "code",
        "colab": {}
      },
      "source": [
        ""
      ],
      "execution_count": 0,
      "outputs": []
    },
    {
      "cell_type": "markdown",
      "metadata": {
        "id": "FE_HLPMNGY_Q",
        "colab_type": "text"
      },
      "source": [
        "## Trying some picture tests"
      ]
    },
    {
      "cell_type": "markdown",
      "metadata": {
        "id": "lmCli1nFUNaC",
        "colab_type": "text"
      },
      "source": [
        "### Fist test with a tomato"
      ]
    },
    {
      "cell_type": "markdown",
      "metadata": {
        "id": "M50Dp005Uwsf",
        "colab_type": "text"
      },
      "source": [
        "#### All this code is provided by google colab to deploy webcam function and take a picture"
      ]
    },
    {
      "cell_type": "code",
      "metadata": {
        "id": "zR8J7MqdlYMA",
        "colab_type": "code",
        "outputId": "e0f0c6fe-18d8-41b8-8e1f-6604a9ad1c21",
        "colab": {
          "base_uri": "https://localhost:8080/",
          "height": 34
        }
      },
      "source": [
        "from google.colab import drive\n",
        "drive.mount('/content/drive')"
      ],
      "execution_count": 208,
      "outputs": [
        {
          "output_type": "stream",
          "text": [
            "Drive already mounted at /content/drive; to attempt to forcibly remount, call drive.mount(\"/content/drive\", force_remount=True).\n"
          ],
          "name": "stdout"
        }
      ]
    },
    {
      "cell_type": "code",
      "metadata": {
        "id": "RtHFEXQNmGZS",
        "colab_type": "code",
        "colab": {}
      },
      "source": [
        "\n",
        "def take_photo(filename='photo2.jpg', quality=0.8):\n",
        "  js = Javascript('''\n",
        "    async function takePhoto(quality) {\n",
        "      const div = document.createElement('div');\n",
        "      const capture = document.createElement('button');\n",
        "      capture.textContent = 'Capture';\n",
        "      div.appendChild(capture);\n",
        "\n",
        "      const video = document.createElement('video');\n",
        "      video.style.display = 'block';\n",
        "      const stream = await navigator.mediaDevices.getUserMedia({video: true});\n",
        "\n",
        "      document.body.appendChild(div);\n",
        "      div.appendChild(video);\n",
        "      video.srcObject = stream;\n",
        "      await video.play();\n",
        "\n",
        "      // Resize the output to fit the video element.\n",
        "      google.colab.output.setIframeHeight(document.documentElement.scrollHeight, true);\n",
        "\n",
        "      // Wait for Capture to be clicked.\n",
        "      await new Promise((resolve) => capture.onclick = resolve);\n",
        "\n",
        "      const canvas = document.createElement('canvas');\n",
        "      canvas.width = video.videoWidth;\n",
        "      canvas.height = video.videoHeight;\n",
        "      canvas.getContext('2d').drawImage(video, 0, 0);\n",
        "      stream.getVideoTracks()[0].stop();\n",
        "      div.remove();\n",
        "      return canvas.toDataURL('image/jpeg', quality);\n",
        "    }\n",
        "    ''')\n",
        "  display(js)\n",
        "  data = eval_js('takePhoto({})'.format(quality))\n",
        "  binary = b64decode(data.split(',')[1])\n",
        "  with open(filename, 'wb') as f:\n",
        "    f.write(binary)\n",
        "  return filename"
      ],
      "execution_count": 0,
      "outputs": []
    },
    {
      "cell_type": "code",
      "metadata": {
        "id": "ZkGqeCC9f-xf",
        "colab_type": "code",
        "colab": {
          "base_uri": "https://localhost:8080/",
          "height": 514
        },
        "outputId": "ee9bb4d3-6f87-4539-af39-729386ca32d7"
      },
      "source": [
        "from IPython.display import Image\n",
        "try:\n",
        "  filename = take_photo()\n",
        "  print('Saved to {}'.format(filename))\n",
        "  \n",
        "  # Show the image which was just taken.\n",
        "  display(Image(filename))\n",
        "\n",
        "except Exception as err:\n",
        "  # Errors will be thrown if the user does not have a webcam or if they do not\n",
        "  # grant the page permission to access it.\n",
        "  print(str(err))"
      ],
      "execution_count": 212,
      "outputs": [
        {
          "output_type": "display_data",
          "data": {
            "application/javascript": [
              "\n",
              "    async function takePhoto(quality) {\n",
              "      const div = document.createElement('div');\n",
              "      const capture = document.createElement('button');\n",
              "      capture.textContent = 'Capture';\n",
              "      div.appendChild(capture);\n",
              "\n",
              "      const video = document.createElement('video');\n",
              "      video.style.display = 'block';\n",
              "      const stream = await navigator.mediaDevices.getUserMedia({video: true});\n",
              "\n",
              "      document.body.appendChild(div);\n",
              "      div.appendChild(video);\n",
              "      video.srcObject = stream;\n",
              "      await video.play();\n",
              "\n",
              "      // Resize the output to fit the video element.\n",
              "      google.colab.output.setIframeHeight(document.documentElement.scrollHeight, true);\n",
              "\n",
              "      // Wait for Capture to be clicked.\n",
              "      await new Promise((resolve) => capture.onclick = resolve);\n",
              "\n",
              "      const canvas = document.createElement('canvas');\n",
              "      canvas.width = video.videoWidth;\n",
              "      canvas.height = video.videoHeight;\n",
              "      canvas.getContext('2d').drawImage(video, 0, 0);\n",
              "      stream.getVideoTracks()[0].stop();\n",
              "      div.remove();\n",
              "      return canvas.toDataURL('image/jpeg', quality);\n",
              "    }\n",
              "    "
            ],
            "text/plain": [
              "<IPython.core.display.Javascript object>"
            ]
          },
          "metadata": {
            "tags": []
          }
        },
        {
          "output_type": "stream",
          "text": [
            "Saved to photo.jpg\n"
          ],
          "name": "stdout"
        },
        {
          "output_type": "display_data",
          "data": {
            "image/jpeg": "[encoded data removed]",
            "text/plain": [
              "<IPython.core.display.Image object>"
            ]
          },
          "metadata": {
            "tags": []
          }
        }
      ]
    },
    {
      "cell_type": "markdown",
      "metadata": {
        "id": "FXh2aN6yU-5R",
        "colab_type": "text"
      },
      "source": [
        "#### Code to load the model "
      ]
    },
    {
      "cell_type": "code",
      "metadata": {
        "id": "VTu1Pw1UPEsg",
        "colab_type": "code",
        "colab": {
          "base_uri": "https://localhost:8080/",
          "height": 34
        },
        "outputId": "74639b6a-168a-4b7c-c8b6-237590faed2d"
      },
      "source": [
        "import json\n",
        "from keras.models import model_from_json, load_model"
      ],
      "execution_count": 1,
      "outputs": [
        {
          "output_type": "stream",
          "text": [
            "Using TensorFlow backend.\n"
          ],
          "name": "stderr"
        }
      ]
    },
    {
      "cell_type": "code",
      "metadata": {
        "id": "y_z5IRzYPEql",
        "colab_type": "code",
        "colab": {}
      },
      "source": [
        "with open('model_architecture.json', 'r') as f:\n",
        "    new_model_1 = model_from_json(f.read())\n",
        "new_model_1.load_weights('model_weights.h5')"
      ],
      "execution_count": 0,
      "outputs": []
    },
    {
      "cell_type": "code",
      "metadata": {
        "id": "vgpiCCYaf-0T",
        "colab_type": "code",
        "colab": {
          "base_uri": "https://localhost:8080/",
          "height": 34
        },
        "outputId": "438e2a53-39f4-4b3e-cd0d-9e201933c23e"
      },
      "source": [
        "photo = cv2.imread('photo.jpg')\n",
        "img = cv2.resize(photo,(100,100))\n",
        "image = np.expand_dims(img, axis=0)\n",
        "\n",
        "predict = new_model_1.predict(image)\n",
        "\n",
        "output = { 0:'apple',1:'avocado',2:'banana',3:'blueberry',4:'lemon',5:'onion red',6:'orange',7:'pepper green',8:'potato',9:'tomato'}\n",
        "\n",
        "#print(\"Actual :- \",checklabel)\n",
        "print(\"Predicted :- \",output[np.argmax(predict)])"
      ],
      "execution_count": 8,
      "outputs": [
        {
          "output_type": "stream",
          "text": [
            "Predicted :-  tomato\n"
          ],
          "name": "stdout"
        }
      ]
    },
    {
      "cell_type": "markdown",
      "metadata": {
        "id": "_diIzFqSS54Y",
        "colab_type": "text"
      },
      "source": [
        "### 2nd test with a banana"
      ]
    },
    {
      "cell_type": "code",
      "metadata": {
        "id": "GHEn9S6JJUhv",
        "colab_type": "code",
        "colab": {
          "base_uri": "https://localhost:8080/",
          "height": 514
        },
        "outputId": "f184a180-2daf-4c24-eb95-703db62235a5"
      },
      "source": [
        "from IPython.display import display, Javascript\n",
        "from google.colab.output import eval_js\n",
        "from base64 import b64decode\n",
        "\n",
        "\n",
        "def take_photo(filename='photo2.jpg', quality=0.8):\n",
        "  js = Javascript('''\n",
        "    async function takePhoto(quality) {\n",
        "      const div = document.createElement('div');\n",
        "      const capture = document.createElement('button');\n",
        "      capture.textContent = 'Capture';\n",
        "      div.appendChild(capture);\n",
        "\n",
        "      const video = document.createElement('video');\n",
        "      video.style.display = 'block';\n",
        "      const stream = await navigator.mediaDevices.getUserMedia({video: true});\n",
        "\n",
        "      document.body.appendChild(div);\n",
        "      div.appendChild(video);\n",
        "      video.srcObject = stream;\n",
        "      await video.play();\n",
        "\n",
        "      // Resize the output to fit the video element.\n",
        "      google.colab.output.setIframeHeight(document.documentElement.scrollHeight, true);\n",
        "\n",
        "      // Wait for Capture to be clicked.\n",
        "      await new Promise((resolve) => capture.onclick = resolve);\n",
        "\n",
        "      const canvas = document.createElement('canvas');\n",
        "      canvas.width = video.videoWidth;\n",
        "      canvas.height = video.videoHeight;\n",
        "      canvas.getContext('2d').drawImage(video, 0, 0);\n",
        "      stream.getVideoTracks()[0].stop();\n",
        "      div.remove();\n",
        "      return canvas.toDataURL('image/jpeg', quality);\n",
        "    }\n",
        "    ''')\n",
        "  display(js)\n",
        "  data = eval_js('takePhoto({})'.format(quality))\n",
        "  binary = b64decode(data.split(',')[1])\n",
        "  with open(filename, 'wb') as f:\n",
        "    f.write(binary)\n",
        "  return filename\n",
        "\n",
        "from IPython.display import Image\n",
        "\n",
        "try:\n",
        "  filename = take_photo()\n",
        "  print('Saved to {}'.format(filename))\n",
        "  \n",
        "  # Show the image which was just taken.\n",
        "  display(Image(filename))\n",
        "\n",
        "except Exception as err:\n",
        "  # Errors will be thrown if the user does not have a webcam or if they do not\n",
        "  # grant the page permission to access it.\n",
        "  print(str(err))"
      ],
      "execution_count": 10,
      "outputs": [
        {
          "output_type": "display_data",
          "data": {
            "application/javascript": [
              "\n",
              "    async function takePhoto(quality) {\n",
              "      const div = document.createElement('div');\n",
              "      const capture = document.createElement('button');\n",
              "      capture.textContent = 'Capture';\n",
              "      div.appendChild(capture);\n",
              "\n",
              "      const video = document.createElement('video');\n",
              "      video.style.display = 'block';\n",
              "      const stream = await navigator.mediaDevices.getUserMedia({video: true});\n",
              "\n",
              "      document.body.appendChild(div);\n",
              "      div.appendChild(video);\n",
              "      video.srcObject = stream;\n",
              "      await video.play();\n",
              "\n",
              "      // Resize the output to fit the video element.\n",
              "      google.colab.output.setIframeHeight(document.documentElement.scrollHeight, true);\n",
              "\n",
              "      // Wait for Capture to be clicked.\n",
              "      await new Promise((resolve) => capture.onclick = resolve);\n",
              "\n",
              "      const canvas = document.createElement('canvas');\n",
              "      canvas.width = video.videoWidth;\n",
              "      canvas.height = video.videoHeight;\n",
              "      canvas.getContext('2d').drawImage(video, 0, 0);\n",
              "      stream.getVideoTracks()[0].stop();\n",
              "      div.remove();\n",
              "      return canvas.toDataURL('image/jpeg', quality);\n",
              "    }\n",
              "    "
            ],
            "text/plain": [
              "<IPython.core.display.Javascript object>"
            ]
          },
          "metadata": {
            "tags": []
          }
        },
        {
          "output_type": "stream",
          "text": [
            "Saved to photo2.jpg\n"
          ],
          "name": "stdout"
        },
        {
          "output_type": "display_data",
          "data": {
            "image/jpeg": "[encoded data removed]",
            "text/plain": [
              "<IPython.core.display.Image object>"
            ]
          },
          "metadata": {
            "tags": []
          }
        }
      ]
    },
    {
      "cell_type": "code",
      "metadata": {
        "id": "xZtsX9MTJUmZ",
        "colab_type": "code",
        "colab": {
          "base_uri": "https://localhost:8080/",
          "height": 34
        },
        "outputId": "0eb3bcfb-3ae2-46db-e1fd-847729887a38"
      },
      "source": [
        "photo2 = cv2.imread('photo2.jpg')\n",
        "img = cv2.resize(photo2,(100,100))\n",
        "image = np.expand_dims(img, axis=0)\n",
        "\n",
        "predict = new_model_1.predict(image)\n",
        "\n",
        "output = { 0:'apple',1:'avocado',2:'banana',3:'blueberry',4:'lemon',5:'onion red',6:'orange',7:'pepper green',8:'potato',9:'tomato'}\n",
        "\n",
        "#print(\"Actual :- \",checklabel)\n",
        "print(\"Predicted :- \",output[np.argmax(predict)])"
      ],
      "execution_count": 11,
      "outputs": [
        {
          "output_type": "stream",
          "text": [
            "Predicted :-  banana\n"
          ],
          "name": "stdout"
        }
      ]
    },
    {
      "cell_type": "code",
      "metadata": {
        "id": "TLH2UdUyJUkP",
        "colab_type": "code",
        "colab": {}
      },
      "source": [
        ""
      ],
      "execution_count": 0,
      "outputs": []
    }
  ]
}