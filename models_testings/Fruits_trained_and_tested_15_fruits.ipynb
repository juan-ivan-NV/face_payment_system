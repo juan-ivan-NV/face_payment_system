{
  "nbformat": 4,
  "nbformat_minor": 0,
  "metadata": {
    "colab": {
      "name": "Fruits_trained_and_tested_15f.ipynb",
      "provenance": [],
      "collapsed_sections": []
    },
    "kernelspec": {
      "name": "python3",
      "display_name": "Python 3"
    }
  },
  "cells": [
    {
      "cell_type": "markdown",
      "metadata": {
        "id": "anTsM-zWm9AH",
        "colab_type": "text"
      },
      "source": [
        "# Training our own model with 10 fruit images and a CNN keras"
      ]
    },
    {
      "cell_type": "markdown",
      "metadata": {
        "id": "Dhcpozm0njmO",
        "colab_type": "text"
      },
      "source": [
        "### Some libraries"
      ]
    },
    {
      "cell_type": "code",
      "metadata": {
        "id": "VKoQnuSbURWz",
        "colab_type": "code",
        "colab": {}
      },
      "source": [
        "import numpy as np \n",
        "import pandas as pd \n",
        "import os\n",
        "import matplotlib.pyplot as plt\n",
        "import cv2\n",
        "\n",
        "from keras.utils import to_categorical\n",
        "from keras.layers import Dense,Conv2D,Flatten,MaxPool2D,Dropout\n",
        "from keras.models import Sequential\n",
        "\n",
        "from sklearn.model_selection import train_test_split\n",
        "np.random.seed(1)"
      ],
      "execution_count": 0,
      "outputs": []
    },
    {
      "cell_type": "markdown",
      "metadata": {
        "id": "Y_xpf26GnrJ-",
        "colab_type": "text"
      },
      "source": [
        "### Processing training images"
      ]
    },
    {
      "cell_type": "code",
      "metadata": {
        "id": "QTOgLTHzVCqA",
        "colab_type": "code",
        "colab": {}
      },
      "source": [
        "# lists to agregate names and arrays images\n",
        "\n",
        "train_img = []\n",
        "train_lab = []\n",
        "train_nam = []"
      ],
      "execution_count": 0,
      "outputs": []
    },
    {
      "cell_type": "code",
      "metadata": {
        "id": "MtWugEPhXHTT",
        "colab_type": "code",
        "colab": {}
      },
      "source": [
        "# loop over dir´s\n",
        "\n",
        "path = 'ftrain'\n",
        "\n",
        "for name in os.listdir('ftrain'):\n",
        "  for filename in os.listdir(f'ftrain/{name}'):\n",
        "    if 'jpg' in filename:\n",
        "      #print(name)\n",
        "      img = cv2.imread(os.path.join(path,name,filename))\n",
        "      #img = cv2.resize(img,(250,250))\n",
        "      train_img.append(img)\n",
        "      train_nam.append(str(name))\n",
        "      "
      ],
      "execution_count": 0,
      "outputs": []
    },
    {
      "cell_type": "code",
      "metadata": {
        "id": "ll5JzC8Vgywl",
        "colab_type": "code",
        "outputId": "92feac08-c64a-4e34-c515-4d1d08982ece",
        "colab": {
          "base_uri": "https://localhost:8080/",
          "height": 70
        }
      },
      "source": [
        "print(set(train_nam))\n",
        "print(len(train_nam))"
      ],
      "execution_count": 15,
      "outputs": [
        {
          "output_type": "stream",
          "text": [
            "{'Pear', 'Blueberry', 'Strawberry', 'Avocado ripe', 'Potato White', 'Lemon', 'Orange', 'Pineapple', 'Raspberry', 'Onion Red Peeled', 'Pepper Green', 'Apple Red Delicious', 'Banana', 'Cocos', 'Tomato'}\n",
            "7386\n"
          ],
          "name": "stdout"
        }
      ]
    },
    {
      "cell_type": "code",
      "metadata": {
        "id": "m-8NF1qeeC75",
        "colab_type": "code",
        "colab": {}
      },
      "source": [
        "# change name to numerical\n",
        "\n",
        "def nam_to_num(lst):\n",
        "  labels = []\n",
        "  for name in lst:\n",
        "    if 'Apple Red Delicious' == name: labels.append(0)\n",
        "    elif 'Avocado ripe' == name:labels.append(1)\n",
        "    elif 'Banana' == name:labels.append(2)\n",
        "    elif 'Blueberry' == name:labels.append(3)\n",
        "    elif 'Lemon' == name:labels.append(4)\n",
        "    elif 'Onion Red Peeled' == name: labels.append(5)\n",
        "    elif 'Orange' == name: labels.append(6)\n",
        "    elif 'Pepper Green' == name: labels.append(7)\n",
        "    elif 'Potato White' == name: labels.append(8)\n",
        "    elif 'Tomato' == name: labels.append(9)\n",
        "    elif 'Strawberry' == name: labels.append(10)\n",
        "    elif 'Raspberry' == name: labels.append(11)\n",
        "    elif 'Pineapple' == name: labels.append(12)\n",
        "    elif 'Pear' == name: labels.append(13)\n",
        "    elif 'Cocos' == name: labels.append(14)\n",
        "  return labels\n"
      ],
      "execution_count": 0,
      "outputs": []
    },
    {
      "cell_type": "code",
      "metadata": {
        "id": "rvGzvQaehpb3",
        "colab_type": "code",
        "outputId": "0c2b734a-2a5e-47be-c3e3-6e089a4a6f35",
        "colab": {
          "base_uri": "https://localhost:8080/",
          "height": 50
        }
      },
      "source": [
        "train_lab = nam_to_num(train_nam)\n",
        "print(set(train_lab))\n",
        "print(len(train_lab))"
      ],
      "execution_count": 17,
      "outputs": [
        {
          "output_type": "stream",
          "text": [
            "{0, 1, 2, 3, 4, 5, 6, 7, 8, 9, 10, 11, 12, 13, 14}\n",
            "7386\n"
          ],
          "name": "stdout"
        }
      ]
    },
    {
      "cell_type": "code",
      "metadata": {
        "id": "pRf6VTTFiNcE",
        "colab_type": "code",
        "colab": {}
      },
      "source": [
        "# convert labels to categorical and images to arr\n",
        "\n",
        "train_img = np.array(train_img)\n",
        "#train_lab = pd.get_dummies(train_lab).values\n",
        "\n",
        "train_lab = to_categorical(train_lab)\n",
        "#y_test = to_categorical(y_test)"
      ],
      "execution_count": 0,
      "outputs": []
    },
    {
      "cell_type": "code",
      "metadata": {
        "id": "UhwjhWDFhbgf",
        "colab_type": "code",
        "outputId": "18b72bb7-5174-43e3-b02e-842b75cfd867",
        "colab": {
          "base_uri": "https://localhost:8080/",
          "height": 50
        }
      },
      "source": [
        "train_lab[0]"
      ],
      "execution_count": 19,
      "outputs": [
        {
          "output_type": "execute_result",
          "data": {
            "text/plain": [
              "array([0., 0., 0., 1., 0., 0., 0., 0., 0., 0., 0., 0., 0., 0., 0.],\n",
              "      dtype=float32)"
            ]
          },
          "metadata": {
            "tags": []
          },
          "execution_count": 19
        }
      ]
    },
    {
      "cell_type": "code",
      "metadata": {
        "id": "uIlTBAJqk71A",
        "colab_type": "code",
        "outputId": "7bc009b4-8f58-43d4-d118-8d56465ee33b",
        "colab": {
          "base_uri": "https://localhost:8080/",
          "height": 34
        }
      },
      "source": [
        "train_img[0].shape"
      ],
      "execution_count": 20,
      "outputs": [
        {
          "output_type": "execute_result",
          "data": {
            "text/plain": [
              "(100, 100, 3)"
            ]
          },
          "metadata": {
            "tags": []
          },
          "execution_count": 20
        }
      ]
    },
    {
      "cell_type": "code",
      "metadata": {
        "id": "AaPCNOZklAna",
        "colab_type": "code",
        "outputId": "2123aa48-c002-40d8-c9cc-44b0973232f6",
        "colab": {
          "base_uri": "https://localhost:8080/",
          "height": 285
        }
      },
      "source": [
        "plt.imshow(train_img[0])"
      ],
      "execution_count": 21,
      "outputs": [
        {
          "output_type": "execute_result",
          "data": {
            "text/plain": [
              "<matplotlib.image.AxesImage at 0x7f45f228a7f0>"
            ]
          },
          "metadata": {
            "tags": []
          },
          "execution_count": 21
        },
        {
          "output_type": "display_data",
          "data": {
            "image/png": "[encoded data removed]",
            "text/plain": [
              "<Figure size 432x288 with 1 Axes>"
            ]
          },
          "metadata": {
            "tags": [],
            "needs_background": "light"
          }
        }
      ]
    },
    {
      "cell_type": "code",
      "metadata": {
        "id": "w3kjc7ePsTmK",
        "colab_type": "code",
        "colab": {}
      },
      "source": [
        "#X_train,X_test,y_train,y_test = train_test_split(train_img,train_lab,random_state=1)"
      ],
      "execution_count": 0,
      "outputs": []
    },
    {
      "cell_type": "markdown",
      "metadata": {
        "id": "kDd9g6a1mvmi",
        "colab_type": "text"
      },
      "source": [
        "### Same steps with test images set"
      ]
    },
    {
      "cell_type": "code",
      "metadata": {
        "id": "x6wDA9yUmsW-",
        "colab_type": "code",
        "colab": {}
      },
      "source": [
        "test_img = []\n",
        "test_lab = []\n",
        "test_nam = []\n",
        "\n",
        "path = 'ftest'\n",
        "\n",
        "for name in os.listdir(path):\n",
        "  for filename in os.listdir(f'ftest/{name}'):\n",
        "    if 'jpg' in filename:\n",
        "      img = cv2.imread(os.path.join(path,name,filename))\n",
        "      test_img.append(img)\n",
        "      test_nam.append(str(name))\n",
        "\n"
      ],
      "execution_count": 0,
      "outputs": []
    },
    {
      "cell_type": "code",
      "metadata": {
        "id": "XzAXxZWAqzV4",
        "colab_type": "code",
        "colab": {}
      },
      "source": [
        "test_lab = nam_to_num(test_nam)\n",
        "\n"
      ],
      "execution_count": 0,
      "outputs": []
    },
    {
      "cell_type": "code",
      "metadata": {
        "id": "8a9Vfc1Rqzcw",
        "colab_type": "code",
        "colab": {}
      },
      "source": [
        "test_lab = to_categorical(test_lab)\n",
        "\n",
        "test_img = np.array(test_img)"
      ],
      "execution_count": 0,
      "outputs": []
    },
    {
      "cell_type": "code",
      "metadata": {
        "id": "qMlQRDZKuq6b",
        "colab_type": "code",
        "outputId": "9ad3d01f-720f-4e84-b0a2-96bc2d5c6561",
        "colab": {
          "base_uri": "https://localhost:8080/",
          "height": 50
        }
      },
      "source": [
        "print(len(test_img))\n",
        "print(len(test_lab))"
      ],
      "execution_count": 25,
      "outputs": [
        {
          "output_type": "stream",
          "text": [
            "2450\n",
            "2450\n"
          ],
          "name": "stdout"
        }
      ]
    },
    {
      "cell_type": "markdown",
      "metadata": {
        "id": "GEWvGveLp1ZS",
        "colab_type": "text"
      },
      "source": [
        "### Building the Convolutional Neural Networck"
      ]
    },
    {
      "cell_type": "code",
      "metadata": {
        "id": "X-ZduLyHmsb7",
        "colab_type": "code",
        "colab": {}
      },
      "source": [
        "model = Sequential()\n",
        "model.add(Conv2D(filters=32, kernel_size = 3, activation='tanh', input_shape=(100,100,3)))\n",
        "model.add(Conv2D(filters=64, kernel_size = 3, activation='tanh'))\n",
        "model.add(MaxPool2D(2,2))\n",
        "model.add(Conv2D(filters=128, kernel_size = 3, activation='tanh'))\n",
        "model.add(MaxPool2D(2,2))\n",
        "model.add(Conv2D(filters=256, kernel_size = 3, activation='tanh'))\n",
        "model.add(MaxPool2D(2, 2))\n",
        "model.add(Flatten())\n",
        "model.add(Dropout(0.5))\n",
        "model.add(Dense(15, activation='softmax'))"
      ],
      "execution_count": 0,
      "outputs": []
    },
    {
      "cell_type": "code",
      "metadata": {
        "id": "kcA4FdJRmseX",
        "colab_type": "code",
        "outputId": "71b54356-3a12-4e75-973c-fa900826669b",
        "colab": {
          "base_uri": "https://localhost:8080/",
          "height": 487
        }
      },
      "source": [
        "model.summary()"
      ],
      "execution_count": 30,
      "outputs": [
        {
          "output_type": "stream",
          "text": [
            "Model: \"sequential_2\"\n",
            "_________________________________________________________________\n",
            "Layer (type)                 Output Shape              Param #   \n",
            "=================================================================\n",
            "conv2d_5 (Conv2D)            (None, 98, 98, 32)        896       \n",
            "_________________________________________________________________\n",
            "conv2d_6 (Conv2D)            (None, 96, 96, 64)        18496     \n",
            "_________________________________________________________________\n",
            "max_pooling2d_4 (MaxPooling2 (None, 48, 48, 64)        0         \n",
            "_________________________________________________________________\n",
            "conv2d_7 (Conv2D)            (None, 46, 46, 128)       73856     \n",
            "_________________________________________________________________\n",
            "max_pooling2d_5 (MaxPooling2 (None, 23, 23, 128)       0         \n",
            "_________________________________________________________________\n",
            "conv2d_8 (Conv2D)            (None, 21, 21, 256)       295168    \n",
            "_________________________________________________________________\n",
            "max_pooling2d_6 (MaxPooling2 (None, 10, 10, 256)       0         \n",
            "_________________________________________________________________\n",
            "flatten_2 (Flatten)          (None, 25600)             0         \n",
            "_________________________________________________________________\n",
            "dropout_2 (Dropout)          (None, 25600)             0         \n",
            "_________________________________________________________________\n",
            "dense_2 (Dense)              (None, 15)                384015    \n",
            "=================================================================\n",
            "Total params: 772,431\n",
            "Trainable params: 772,431\n",
            "Non-trainable params: 0\n",
            "_________________________________________________________________\n"
          ],
          "name": "stdout"
        }
      ]
    },
    {
      "cell_type": "code",
      "metadata": {
        "id": "ou1UPSMGreAK",
        "colab_type": "code",
        "outputId": "3400c341-c155-4565-f75a-aa3ff08088f1",
        "colab": {
          "base_uri": "https://localhost:8080/",
          "height": 222
        }
      },
      "source": [
        "model.compile(optimizer='adam', loss='categorical_crossentropy', metrics=['accuracy'])\n",
        "history = model.fit(train_img, train_lab, validation_data=(test_img, test_lab), epochs=5)"
      ],
      "execution_count": 31,
      "outputs": [
        {
          "output_type": "stream",
          "text": [
            "Train on 7386 samples, validate on 2450 samples\n",
            "Epoch 1/5\n",
            "7386/7386 [==============================] - 426s 58ms/step - loss: 0.1737 - accuracy: 0.9540 - val_loss: 0.0600 - val_accuracy: 0.9788\n",
            "Epoch 2/5\n",
            "7386/7386 [==============================] - 426s 58ms/step - loss: 1.7810e-05 - accuracy: 1.0000 - val_loss: 0.0429 - val_accuracy: 0.9812\n",
            "Epoch 3/5\n",
            "7386/7386 [==============================] - 434s 59ms/step - loss: 1.2050e-05 - accuracy: 1.0000 - val_loss: 0.0125 - val_accuracy: 0.9935\n",
            "Epoch 4/5\n",
            "7386/7386 [==============================] - 428s 58ms/step - loss: 8.2680e-06 - accuracy: 1.0000 - val_loss: 0.0162 - val_accuracy: 0.9890\n",
            "Epoch 5/5\n",
            "7386/7386 [==============================] - 432s 59ms/step - loss: 5.1963e-06 - accuracy: 1.0000 - val_loss: 0.0183 - val_accuracy: 0.9890\n"
          ],
          "name": "stdout"
        }
      ]
    },
    {
      "cell_type": "code",
      "metadata": {
        "id": "8Cq3SbJqu3mR",
        "colab_type": "code",
        "outputId": "6d3ae596-649c-48fc-a15d-9304e9155c5d",
        "colab": {
          "base_uri": "https://localhost:8080/",
          "height": 550
        }
      },
      "source": [
        "plt.plot(history.history['accuracy'])\n",
        "plt.plot(history.history['val_accuracy'])\n",
        "plt.title('model accuracy')\n",
        "plt.ylabel('accuracy')\n",
        "plt.xlabel('epoch')\n",
        "plt.legend(['train','test'], loc = 'uper left')\n",
        "plt.show();"
      ],
      "execution_count": 32,
      "outputs": [
        {
          "output_type": "stream",
          "text": [
            "/usr/local/lib/python3.6/dist-packages/ipykernel_launcher.py:6: MatplotlibDeprecationWarning: Unrecognized location 'uper left'. Falling back on 'best'; valid locations are\n",
            "\tbest\n",
            "\tupper right\n",
            "\tupper left\n",
            "\tlower left\n",
            "\tlower right\n",
            "\tright\n",
            "\tcenter left\n",
            "\tcenter right\n",
            "\tlower center\n",
            "\tupper center\n",
            "\tcenter\n",
            "This will raise an exception in 3.3.\n",
            "  \n"
          ],
          "name": "stderr"
        },
        {
          "output_type": "display_data",
          "data": {
            "image/png": "[encoded data removed]",
            "text/plain": [
              "<Figure size 432x288 with 1 Axes>"
            ]
          },
          "metadata": {
            "tags": [],
            "needs_background": "light"
          }
        }
      ]
    },
    {
      "cell_type": "code",
      "metadata": {
        "id": "6V4KxZ_UvBLO",
        "colab_type": "code",
        "outputId": "341b6ffa-adf0-4bec-89b9-72ccbcc1cdbe",
        "colab": {
          "base_uri": "https://localhost:8080/",
          "height": 550
        }
      },
      "source": [
        "plt.plot(history.history['loss'])\n",
        "plt.plot(history.history['val_loss'])\n",
        "plt.title('model loss')\n",
        "plt.ylabel('loss')\n",
        "plt.xlabel('epoch')\n",
        "plt.legend(['train','test'], loc = 'uper left')\n",
        "plt.show();"
      ],
      "execution_count": 33,
      "outputs": [
        {
          "output_type": "stream",
          "text": [
            "/usr/local/lib/python3.6/dist-packages/ipykernel_launcher.py:6: MatplotlibDeprecationWarning: Unrecognized location 'uper left'. Falling back on 'best'; valid locations are\n",
            "\tbest\n",
            "\tupper right\n",
            "\tupper left\n",
            "\tlower left\n",
            "\tlower right\n",
            "\tright\n",
            "\tcenter left\n",
            "\tcenter right\n",
            "\tlower center\n",
            "\tupper center\n",
            "\tcenter\n",
            "This will raise an exception in 3.3.\n",
            "  \n"
          ],
          "name": "stderr"
        },
        {
          "output_type": "display_data",
          "data": {
            "image/png": "[encoded data removed]",
            "text/plain": [
              "<Figure size 432x288 with 1 Axes>"
            ]
          },
          "metadata": {
            "tags": [],
            "needs_background": "light"
          }
        }
      ]
    },
    {
      "cell_type": "code",
      "metadata": {
        "id": "MY5yif_d8APU",
        "colab_type": "code",
        "outputId": "17c95ba9-8ce5-4070-ea4f-f295fe86c54c",
        "colab": {
          "base_uri": "https://localhost:8080/",
          "height": 50
        }
      },
      "source": [
        "checkImage = test_img[600:601]\n",
        "checklabel = test_lab[600:601]\n",
        "\n",
        "predict = model.predict(checkImage)\n",
        "\n",
        "output = { 0:'apple',1:'avocado',2:'banana',3:'blueberry',4:'lemon',5:'onion red',6:'orange',7:'pepper green',8:'potato',9:'tomato',10:'strawberry',11:'raspberry',12:'pineapple',13:'pear',14:'coco'}\n",
        "\n",
        "print(\"Actual :- \",checklabel)\n",
        "print(\"Predicted :- \",output[np.argmax(predict)])"
      ],
      "execution_count": 34,
      "outputs": [
        {
          "output_type": "stream",
          "text": [
            "Actual :-  [[0. 0. 0. 0. 1. 0. 0. 0. 0. 0. 0. 0. 0. 0. 0.]]\n",
            "Predicted :-  lemon\n"
          ],
          "name": "stdout"
        }
      ]
    },
    {
      "cell_type": "code",
      "metadata": {
        "id": "RuwjIS5H8ARx",
        "colab_type": "code",
        "outputId": "01cae96a-79ba-472e-8372-b4a8f280e28c",
        "colab": {
          "base_uri": "https://localhost:8080/",
          "height": 285
        }
      },
      "source": [
        "plt.imshow(test_img[600])"
      ],
      "execution_count": 35,
      "outputs": [
        {
          "output_type": "execute_result",
          "data": {
            "text/plain": [
              "<matplotlib.image.AxesImage at 0x7f45f0cf2710>"
            ]
          },
          "metadata": {
            "tags": []
          },
          "execution_count": 35
        },
        {
          "output_type": "display_data",
          "data": {
            "image/png": "[encoded data removed]",
            "text/plain": [
              "<Figure size 432x288 with 1 Axes>"
            ]
          },
          "metadata": {
            "tags": [],
            "needs_background": "light"
          }
        }
      ]
    },
    {
      "cell_type": "code",
      "metadata": {
        "id": "iKENg3ElvBOi",
        "colab_type": "code",
        "outputId": "ff28f73a-5e8b-4f3c-a02a-93ae4384a800",
        "colab": {
          "base_uri": "https://localhost:8080/",
          "height": 84
        }
      },
      "source": [
        "predict"
      ],
      "execution_count": 36,
      "outputs": [
        {
          "output_type": "execute_result",
          "data": {
            "text/plain": [
              "array([[1.5777553e-19, 7.3095757e-23, 5.3412129e-16, 1.0902651e-25,\n",
              "        1.0000000e+00, 5.6269250e-28, 9.3221835e-27, 6.3084968e-20,\n",
              "        1.2924653e-08, 9.1555949e-26, 7.6833828e-20, 2.7722456e-29,\n",
              "        8.5599727e-18, 1.8762179e-21, 3.8640845e-26]], dtype=float32)"
            ]
          },
          "metadata": {
            "tags": []
          },
          "execution_count": 36
        }
      ]
    },
    {
      "cell_type": "markdown",
      "metadata": {
        "id": "_u1QDijkD_H7",
        "colab_type": "text"
      },
      "source": [
        "### Model saving"
      ]
    },
    {
      "cell_type": "code",
      "metadata": {
        "id": "oigs9pBdvBTv",
        "colab_type": "code",
        "colab": {}
      },
      "source": [
        "# to read: import json  -  from keras.models import model_from_json, load_model\n",
        "model.save_weights('model_weights15.h5')\n",
        "with open('model_architecture15.json', 'w') as f:\n",
        "    f.write(model.to_json())"
      ],
      "execution_count": 0,
      "outputs": []
    },
    {
      "cell_type": "code",
      "metadata": {
        "id": "0ouV71j7vBWg",
        "colab_type": "code",
        "colab": {}
      },
      "source": [
        "model.save('nmodel15.h5')"
      ],
      "execution_count": 0,
      "outputs": []
    },
    {
      "cell_type": "code",
      "metadata": {
        "id": "-FrQuj3LS0MN",
        "colab_type": "code",
        "colab": {}
      },
      "source": [
        ""
      ],
      "execution_count": 0,
      "outputs": []
    },
    {
      "cell_type": "markdown",
      "metadata": {
        "id": "FE_HLPMNGY_Q",
        "colab_type": "text"
      },
      "source": [
        "## Trying some picture tests"
      ]
    },
    {
      "cell_type": "markdown",
      "metadata": {
        "id": "lmCli1nFUNaC",
        "colab_type": "text"
      },
      "source": [
        "### Fist test with a tomato"
      ]
    },
    {
      "cell_type": "markdown",
      "metadata": {
        "id": "M50Dp005Uwsf",
        "colab_type": "text"
      },
      "source": [
        "#### All this code is provided by google colab to deploy webcam function and take a picture"
      ]
    },
    {
      "cell_type": "code",
      "metadata": {
        "id": "zR8J7MqdlYMA",
        "colab_type": "code",
        "outputId": "e0f0c6fe-18d8-41b8-8e1f-6604a9ad1c21",
        "colab": {
          "base_uri": "https://localhost:8080/",
          "height": 34
        }
      },
      "source": [
        "from google.colab import drive\n",
        "drive.mount('/content/drive')"
      ],
      "execution_count": 0,
      "outputs": [
        {
          "output_type": "stream",
          "text": [
            "Drive already mounted at /content/drive; to attempt to forcibly remount, call drive.mount(\"/content/drive\", force_remount=True).\n"
          ],
          "name": "stdout"
        }
      ]
    },
    {
      "cell_type": "code",
      "metadata": {
        "id": "RtHFEXQNmGZS",
        "colab_type": "code",
        "colab": {}
      },
      "source": [
        "\n",
        "def take_photo(filename='photo2.jpg', quality=0.8):\n",
        "  js = Javascript('''\n",
        "    async function takePhoto(quality) {\n",
        "      const div = document.createElement('div');\n",
        "      const capture = document.createElement('button');\n",
        "      capture.textContent = 'Capture';\n",
        "      div.appendChild(capture);\n",
        "\n",
        "      const video = document.createElement('video');\n",
        "      video.style.display = 'block';\n",
        "      const stream = await navigator.mediaDevices.getUserMedia({video: true});\n",
        "\n",
        "      document.body.appendChild(div);\n",
        "      div.appendChild(video);\n",
        "      video.srcObject = stream;\n",
        "      await video.play();\n",
        "\n",
        "      // Resize the output to fit the video element.\n",
        "      google.colab.output.setIframeHeight(document.documentElement.scrollHeight, true);\n",
        "\n",
        "      // Wait for Capture to be clicked.\n",
        "      await new Promise((resolve) => capture.onclick = resolve);\n",
        "\n",
        "      const canvas = document.createElement('canvas');\n",
        "      canvas.width = video.videoWidth;\n",
        "      canvas.height = video.videoHeight;\n",
        "      canvas.getContext('2d').drawImage(video, 0, 0);\n",
        "      stream.getVideoTracks()[0].stop();\n",
        "      div.remove();\n",
        "      return canvas.toDataURL('image/jpeg', quality);\n",
        "    }\n",
        "    ''')\n",
        "  display(js)\n",
        "  data = eval_js('takePhoto({})'.format(quality))\n",
        "  binary = b64decode(data.split(',')[1])\n",
        "  with open(filename, 'wb') as f:\n",
        "    f.write(binary)\n",
        "  return filename"
      ],
      "execution_count": 0,
      "outputs": []
    },
    {
      "cell_type": "code",
      "metadata": {
        "id": "ZkGqeCC9f-xf",
        "colab_type": "code",
        "outputId": "ee9bb4d3-6f87-4539-af39-729386ca32d7",
        "colab": {
          "base_uri": "https://localhost:8080/",
          "height": 514
        }
      },
      "source": [
        "from IPython.display import Image\n",
        "try:\n",
        "  filename = take_photo()\n",
        "  print('Saved to {}'.format(filename))\n",
        "  \n",
        "  # Show the image which was just taken.\n",
        "  display(Image(filename))\n",
        "\n",
        "except Exception as err:\n",
        "  # Errors will be thrown if the user does not have a webcam or if they do not\n",
        "  # grant the page permission to access it.\n",
        "  print(str(err))"
      ],
      "execution_count": 0,
      "outputs": [
        {
          "output_type": "display_data",
          "data": {
            "application/javascript": [
              "\n",
              "    async function takePhoto(quality) {\n",
              "      const div = document.createElement('div');\n",
              "      const capture = document.createElement('button');\n",
              "      capture.textContent = 'Capture';\n",
              "      div.appendChild(capture);\n",
              "\n",
              "      const video = document.createElement('video');\n",
              "      video.style.display = 'block';\n",
              "      const stream = await navigator.mediaDevices.getUserMedia({video: true});\n",
              "\n",
              "      document.body.appendChild(div);\n",
              "      div.appendChild(video);\n",
              "      video.srcObject = stream;\n",
              "      await video.play();\n",
              "\n",
              "      // Resize the output to fit the video element.\n",
              "      google.colab.output.setIframeHeight(document.documentElement.scrollHeight, true);\n",
              "\n",
              "      // Wait for Capture to be clicked.\n",
              "      await new Promise((resolve) => capture.onclick = resolve);\n",
              "\n",
              "      const canvas = document.createElement('canvas');\n",
              "      canvas.width = video.videoWidth;\n",
              "      canvas.height = video.videoHeight;\n",
              "      canvas.getContext('2d').drawImage(video, 0, 0);\n",
              "      stream.getVideoTracks()[0].stop();\n",
              "      div.remove();\n",
              "      return canvas.toDataURL('image/jpeg', quality);\n",
              "    }\n",
              "    "
            ],
            "text/plain": [
              "<IPython.core.display.Javascript object>"
            ]
          },
          "metadata": {
            "tags": []
          }
        },
        {
          "output_type": "stream",
          "text": [
            "Saved to photo.jpg\n"
          ],
          "name": "stdout"
        },
        {
          "output_type": "display_data",
          "data": {
            "image/jpeg": "[encoded data removed]",
            "text/plain": [
              "<IPython.core.display.Image object>"
            ]
          },
          "metadata": {
            "tags": []
          }
        }
      ]
    },
    {
      "cell_type": "markdown",
      "metadata": {
        "id": "FXh2aN6yU-5R",
        "colab_type": "text"
      },
      "source": [
        "#### Code to load the model "
      ]
    },
    {
      "cell_type": "code",
      "metadata": {
        "id": "VTu1Pw1UPEsg",
        "colab_type": "code",
        "colab": {}
      },
      "source": [
        "import json\n",
        "from keras.models import model_from_json, load_model"
      ],
      "execution_count": 0,
      "outputs": []
    },
    {
      "cell_type": "code",
      "metadata": {
        "id": "y_z5IRzYPEql",
        "colab_type": "code",
        "colab": {}
      },
      "source": [
        "with open('model_architecture15.json', 'r') as f:\n",
        "    new_model_1 = model_from_json(f.read())\n",
        "new_model_1.load_weights('model_weights15.h5')"
      ],
      "execution_count": 0,
      "outputs": []
    },
    {
      "cell_type": "code",
      "metadata": {
        "id": "vgpiCCYaf-0T",
        "colab_type": "code",
        "outputId": "5eff5723-58ad-46b2-89ae-c20cf2b94427",
        "colab": {
          "base_uri": "https://localhost:8080/",
          "height": 34
        }
      },
      "source": [
        "photo = cv2.imread('photo.jpg')\n",
        "img = cv2.resize(photo,(100,100))\n",
        "image = np.expand_dims(img, axis=0)\n",
        "\n",
        "predict = new_model_1.predict(image)\n",
        "\n",
        "output = { 0:'apple',1:'avocado',2:'banana',3:'blueberry',4:'lemon',5:'onion red',6:'orange',7:'pepper green',8:'potato',9:'tomato',10:'strawberry',11:'raspberry',12:'pineapple',13:'pear',14:'coco'}\n",
        "\n",
        "#print(\"Actual :- \",checklabel)\n",
        "print(\"Predicted :- \",output[np.argmax(predict)])"
      ],
      "execution_count": 45,
      "outputs": [
        {
          "output_type": "stream",
          "text": [
            "Predicted :-  pineapple\n"
          ],
          "name": "stdout"
        }
      ]
    },
    {
      "cell_type": "markdown",
      "metadata": {
        "id": "_diIzFqSS54Y",
        "colab_type": "text"
      },
      "source": [
        "### 2nd test with a banana"
      ]
    },
    {
      "cell_type": "code",
      "metadata": {
        "id": "GHEn9S6JJUhv",
        "colab_type": "code",
        "outputId": "f184a180-2daf-4c24-eb95-703db62235a5",
        "colab": {
          "base_uri": "https://localhost:8080/",
          "height": 514
        }
      },
      "source": [
        "from IPython.display import display, Javascript\n",
        "from google.colab.output import eval_js\n",
        "from base64 import b64decode\n",
        "\n",
        "\n",
        "def take_photo(filename='photo2.jpg', quality=0.8):\n",
        "  js = Javascript('''\n",
        "    async function takePhoto(quality) {\n",
        "      const div = document.createElement('div');\n",
        "      const capture = document.createElement('button');\n",
        "      capture.textContent = 'Capture';\n",
        "      div.appendChild(capture);\n",
        "\n",
        "      const video = document.createElement('video');\n",
        "      video.style.display = 'block';\n",
        "      const stream = await navigator.mediaDevices.getUserMedia({video: true});\n",
        "\n",
        "      document.body.appendChild(div);\n",
        "      div.appendChild(video);\n",
        "      video.srcObject = stream;\n",
        "      await video.play();\n",
        "\n",
        "      // Resize the output to fit the video element.\n",
        "      google.colab.output.setIframeHeight(document.documentElement.scrollHeight, true);\n",
        "\n",
        "      // Wait for Capture to be clicked.\n",
        "      await new Promise((resolve) => capture.onclick = resolve);\n",
        "\n",
        "      const canvas = document.createElement('canvas');\n",
        "      canvas.width = video.videoWidth;\n",
        "      canvas.height = video.videoHeight;\n",
        "      canvas.getContext('2d').drawImage(video, 0, 0);\n",
        "      stream.getVideoTracks()[0].stop();\n",
        "      div.remove();\n",
        "      return canvas.toDataURL('image/jpeg', quality);\n",
        "    }\n",
        "    ''')\n",
        "  display(js)\n",
        "  data = eval_js('takePhoto({})'.format(quality))\n",
        "  binary = b64decode(data.split(',')[1])\n",
        "  with open(filename, 'wb') as f:\n",
        "    f.write(binary)\n",
        "  return filename\n",
        "\n",
        "from IPython.display import Image\n",
        "\n",
        "try:\n",
        "  filename = take_photo()\n",
        "  print('Saved to {}'.format(filename))\n",
        "  \n",
        "  # Show the image which was just taken.\n",
        "  display(Image(filename))\n",
        "\n",
        "except Exception as err:\n",
        "  # Errors will be thrown if the user does not have a webcam or if they do not\n",
        "  # grant the page permission to access it.\n",
        "  print(str(err))"
      ],
      "execution_count": 0,
      "outputs": [
        {
          "output_type": "display_data",
          "data": {
            "application/javascript": [
              "\n",
              "    async function takePhoto(quality) {\n",
              "      const div = document.createElement('div');\n",
              "      const capture = document.createElement('button');\n",
              "      capture.textContent = 'Capture';\n",
              "      div.appendChild(capture);\n",
              "\n",
              "      const video = document.createElement('video');\n",
              "      video.style.display = 'block';\n",
              "      const stream = await navigator.mediaDevices.getUserMedia({video: true});\n",
              "\n",
              "      document.body.appendChild(div);\n",
              "      div.appendChild(video);\n",
              "      video.srcObject = stream;\n",
              "      await video.play();\n",
              "\n",
              "      // Resize the output to fit the video element.\n",
              "      google.colab.output.setIframeHeight(document.documentElement.scrollHeight, true);\n",
              "\n",
              "      // Wait for Capture to be clicked.\n",
              "      await new Promise((resolve) => capture.onclick = resolve);\n",
              "\n",
              "      const canvas = document.createElement('canvas');\n",
              "      canvas.width = video.videoWidth;\n",
              "      canvas.height = video.videoHeight;\n",
              "      canvas.getContext('2d').drawImage(video, 0, 0);\n",
              "      stream.getVideoTracks()[0].stop();\n",
              "      div.remove();\n",
              "      return canvas.toDataURL('image/jpeg', quality);\n",
              "    }\n",
              "    "
            ],
            "text/plain": [
              "<IPython.core.display.Javascript object>"
            ]
          },
          "metadata": {
            "tags": []
          }
        },
        {
          "output_type": "stream",
          "text": [
            "Saved to photo2.jpg\n"
          ],
          "name": "stdout"
        },
        {
          "output_type": "display_data",
          "data": {
            "image/jpeg": "[encoded data removed]",
            "text/plain": [
              "<IPython.core.display.Image object>"
            ]
          },
          "metadata": {
            "tags": []
          }
        }
      ]
    },
    {
      "cell_type": "code",
      "metadata": {
        "id": "xZtsX9MTJUmZ",
        "colab_type": "code",
        "outputId": "2bd47c62-69d2-4711-f237-4728bab7619b",
        "colab": {
          "base_uri": "https://localhost:8080/",
          "height": 34
        }
      },
      "source": [
        "photo2 = cv2.imread('photo2.jpg')\n",
        "img = cv2.resize(photo2,(100,100))\n",
        "image = np.expand_dims(img, axis=0)\n",
        "\n",
        "predict = new_model_1.predict(image)\n",
        "\n",
        "output = { 0:'apple',1:'avocado',2:'banana',3:'blueberry',4:'lemon',5:'onion red',6:'orange',7:'pepper green',8:'potato',9:'tomato',10:'strawberry',11:'raspberry',12:'pineapple',13:'pear',14:'coco'}\n",
        "\n",
        "#print(\"Actual :- \",checklabel)\n",
        "print(\"Predicted :- \",output[np.argmax(predict)])"
      ],
      "execution_count": 46,
      "outputs": [
        {
          "output_type": "stream",
          "text": [
            "Predicted :-  banana\n"
          ],
          "name": "stdout"
        }
      ]
    },
    {
      "cell_type": "code",
      "metadata": {
        "id": "TLH2UdUyJUkP",
        "colab_type": "code",
        "colab": {}
      },
      "source": [
        ""
      ],
      "execution_count": 0,
      "outputs": []
    }
  ]
}