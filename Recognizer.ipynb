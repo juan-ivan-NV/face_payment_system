{
 "cells": [
  {
   "cell_type": "markdown",
   "metadata": {},
   "source": [
    "# Recognizer"
   ]
  },
  {
   "cell_type": "code",
   "execution_count": 1,
   "metadata": {},
   "outputs": [],
   "source": [
    "import os\n",
    "import cv2\n",
    "import numpy as np\n",
    "import glob\n",
    "import pandas as pd\n",
    "import matplotlib.pyplot as plt\n",
    "import pickle"
   ]
  },
  {
   "cell_type": "code",
   "execution_count": 2,
   "metadata": {},
   "outputs": [],
   "source": [
    "# getting all images by people folder\n",
    "\n",
    "faces = {}\n",
    "\n",
    "for e in glob.glob('./Faces/**/*.jpg'):\n",
    "    people = e.split('\\\\')[1]\n",
    "    foto = e.split('\\\\')[2]\n",
    "    img = cv2.imread(e)\n",
    "    \n",
    "    gray=cv2.cvtColor(img, cv2.COLOR_BGR2GRAY)\n",
    "    \n",
    "    if people in faces:\n",
    "        faces[people]['images'].append(gray)\n",
    "        faces[people]['name'].append(e)\n",
    "        \n",
    "    else:\n",
    "        faces[people]={'images':[gray], 'name':[e]}"
   ]
  },
  {
   "cell_type": "code",
   "execution_count": 3,
   "metadata": {},
   "outputs": [],
   "source": [
    "face_cascade=cv2.CascadeClassifier('haarcascade_frontalface_alt.xml')"
   ]
  },
  {
   "cell_type": "code",
   "execution_count": 4,
   "metadata": {},
   "outputs": [],
   "source": [
    "# interest region in faces pictures\n",
    "\n",
    "name_id = {}\n",
    "train = []\n",
    "names = []\n",
    "ids = 0\n",
    "\n",
    "for people,images in faces.items():\n",
    "    for ima,arr in enumerate(images['images']):\n",
    "        \n",
    "        if people not in name_id:          # condition to assign a number id to each name\n",
    "            name_id[people] = ids\n",
    "            ids += 1\n",
    "        num_id = name_id[people]\n",
    "        \n",
    "        facesquare = face_cascade.detectMultiScale(arr, 1.2, 7)     # parameters very importan for the number of faces \n",
    "        \n",
    "        for (x,y,w,h) in facesquare:       # squares where the face should be\n",
    "            square = arr[y:y+h, x:x+w]     # height, width\n",
    "            train.append(square)\n",
    "        names.append(num_id)\n",
    "            "
   ]
  },
  {
   "cell_type": "code",
   "execution_count": 5,
   "metadata": {},
   "outputs": [
    {
     "data": {
      "text/plain": [
       "42"
      ]
     },
     "execution_count": 5,
     "metadata": {},
     "output_type": "execute_result"
    }
   ],
   "source": [
    "len(train)"
   ]
  },
  {
   "cell_type": "code",
   "execution_count": 6,
   "metadata": {},
   "outputs": [],
   "source": [
    "recognizer = cv2.face.LBPHFaceRecognizer_create()"
   ]
  },
  {
   "cell_type": "code",
   "execution_count": 7,
   "metadata": {},
   "outputs": [],
   "source": [
    "# saving models and files as pickle\n",
    "\n",
    "with open(\"names_ids.pickle\", \"wb\") as f:\n",
    "    pickle.dump(name_id, f)\n",
    "    \n",
    "recognizer.train(train, np.array(names))\n",
    "recognizer.save(\"recognizer.yml\")          # saving the model"
   ]
  },
  {
   "cell_type": "code",
   "execution_count": null,
   "metadata": {},
   "outputs": [],
   "source": []
  }
 ],
 "metadata": {
  "kernelspec": {
   "display_name": "Python 3",
   "language": "python",
   "name": "python3"
  },
  "language_info": {
   "codemirror_mode": {
    "name": "ipython",
    "version": 3
   },
   "file_extension": ".py",
   "mimetype": "text/x-python",
   "name": "python",
   "nbconvert_exporter": "python",
   "pygments_lexer": "ipython3",
   "version": "3.7.4"
  }
 },
 "nbformat": 4,
 "nbformat_minor": 2
}
