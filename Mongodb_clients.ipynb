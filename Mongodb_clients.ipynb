{
 "cells": [
  {
   "cell_type": "code",
   "execution_count": 1,
   "metadata": {},
   "outputs": [],
   "source": [
    "from pymongo import MongoClient\n",
    "import pandas as pd"
   ]
  },
  {
   "cell_type": "code",
   "execution_count": 2,
   "metadata": {},
   "outputs": [],
   "source": [
    "client=MongoClient()\n",
    "db = client.face_rec\n",
    "collection_names = db.names"
   ]
  },
  {
   "cell_type": "code",
   "execution_count": 5,
   "metadata": {},
   "outputs": [
    {
     "data": {
      "text/plain": [
       "<pymongo.results.InsertManyResult at 0x217a8c0e048>"
      ]
     },
     "execution_count": 5,
     "metadata": {},
     "output_type": "execute_result"
    }
   ],
   "source": [
    "'''collection_names.insert_many([\n",
    "   { '_id':1, 'name': 'Juan_Ivan', 'age': 24, 'phone': 5538184717, 'email': 'coldcram14@hotmail.com' },\n",
    "   { '_id':2, 'name': 'Winona_Ryder', 'age': 38, 'phone': 8638184897, 'email': 'Winona_Ryder@gmail.com' },\n",
    "   { '_id':3, 'name': 'Paul_Bremer', 'age': 50, 'phone': 2333249489, 'email': 'Paul_Bremer@gmail.com' }, \n",
    "   { '_id':4, 'name': 'Jennifer_Aniston', 'age': 45, 'phone': 6821549489, 'email': 'Jennifer_Aniston@gmail.com' },\n",
    "   { '_id':5, 'name': 'James_Blake', 'age': 38, 'phone': 6828569489, 'email': 'James_Blake@gmail.com' },\n",
    "   { '_id':6, 'name': 'Alvaro_Uribe', 'age': 40, 'phone': 6828235489, 'email': 'Alvaro_Uribe@gmail.com' },\n",
    "   { '_id':7, 'name': 'Andre_Agassi', 'age': 50, 'phone': 6821234489, 'email': 'Andre_Agassi@gmail.com' },\n",
    "   { '_id':8, 'name': 'Angelina_Jolie', 'age': 50, 'phone': 6812384489, 'email': 'Angelina_Jolie@gmail.com' },\n",
    "   { '_id':9, 'name': 'Bill_Gates', 'age': 60, 'phone': 6812381234, 'email': 'Bill_Gates@gmail.com' },\n",
    "   { '_id':10, 'name': 'Abdullah_Gul', 'age': 60, 'phone': 6811231234, 'email': 'Abdullah_Gul@gmail.com' }\n",
    "])'''"
   ]
  },
  {
   "cell_type": "code",
   "execution_count": 11,
   "metadata": {},
   "outputs": [],
   "source": [
    "dicts = [{ '_id':1, 'name': 'Juan_Ivan', 'age': 24, 'phone': 5538184717, 'email': 'coldcram14@hotmail.com' },\n",
    "   { '_id':2, 'name': 'Winona_Ryder', 'age': 38, 'phone': 8638184897, 'email': 'Winona_Ryder@gmail.com' },\n",
    "   { '_id':3, 'name': 'Paul_Bremer', 'age': 50, 'phone': 2333249489, 'email': 'Paul_Bremer@gmail.com' }, \n",
    "   { '_id':4, 'name': 'Jennifer_Aniston', 'age': 45, 'phone': 6821549489, 'email': 'Jennifer_Aniston@gmail.com' },\n",
    "   { '_id':5, 'name': 'James_Blake', 'age': 38, 'phone': 6828569489, 'email': 'James_Blake@gmail.com' },\n",
    "   { '_id':6, 'name': 'Alvaro_Uribe', 'age': 40, 'phone': 6828235489, 'email': 'Alvaro_Uribe@gmail.com' },\n",
    "   { '_id':7, 'name': 'Andre_Agassi', 'age': 50, 'phone': 6821234489, 'email': 'Andre_Agassi@gmail.com' },\n",
    "   { '_id':8, 'name': 'Angelina_Jolie', 'age': 50, 'phone': 6812384489, 'email': 'Angelina_Jolie@gmail.com' },\n",
    "   { '_id':9, 'name': 'Bill_Gates', 'age': 60, 'phone': 6812381234, 'email': 'Bill_Gates@gmail.com' },\n",
    "   { '_id':10, 'name': 'Abdullah_Gul', 'age': 60, 'phone': 6811231234, 'email': 'Abdullah_Gul@gmail.com' }]"
   ]
  },
  {
   "cell_type": "code",
   "execution_count": 12,
   "metadata": {},
   "outputs": [
    {
     "data": {
      "text/html": [
       "<div>\n",
       "<style scoped>\n",
       "    .dataframe tbody tr th:only-of-type {\n",
       "        vertical-align: middle;\n",
       "    }\n",
       "\n",
       "    .dataframe tbody tr th {\n",
       "        vertical-align: top;\n",
       "    }\n",
       "\n",
       "    .dataframe thead th {\n",
       "        text-align: right;\n",
       "    }\n",
       "</style>\n",
       "<table border=\"1\" class=\"dataframe\">\n",
       "  <thead>\n",
       "    <tr style=\"text-align: right;\">\n",
       "      <th></th>\n",
       "      <th>_id</th>\n",
       "      <th>name</th>\n",
       "      <th>age</th>\n",
       "      <th>phone</th>\n",
       "      <th>email</th>\n",
       "    </tr>\n",
       "  </thead>\n",
       "  <tbody>\n",
       "    <tr>\n",
       "      <td>0</td>\n",
       "      <td>1</td>\n",
       "      <td>Juan_Ivan</td>\n",
       "      <td>24</td>\n",
       "      <td>5538184717</td>\n",
       "      <td>coldcram14@hotmail.com</td>\n",
       "    </tr>\n",
       "    <tr>\n",
       "      <td>1</td>\n",
       "      <td>2</td>\n",
       "      <td>Winona_Ryder</td>\n",
       "      <td>38</td>\n",
       "      <td>8638184897</td>\n",
       "      <td>Winona_Ryder@gmail.com</td>\n",
       "    </tr>\n",
       "    <tr>\n",
       "      <td>2</td>\n",
       "      <td>3</td>\n",
       "      <td>Paul_Bremer</td>\n",
       "      <td>50</td>\n",
       "      <td>2333249489</td>\n",
       "      <td>Paul_Bremer@gmail.com</td>\n",
       "    </tr>\n",
       "    <tr>\n",
       "      <td>3</td>\n",
       "      <td>4</td>\n",
       "      <td>Jennifer_Aniston</td>\n",
       "      <td>45</td>\n",
       "      <td>6821549489</td>\n",
       "      <td>Jennifer_Aniston@gmail.com</td>\n",
       "    </tr>\n",
       "    <tr>\n",
       "      <td>4</td>\n",
       "      <td>5</td>\n",
       "      <td>James_Blake</td>\n",
       "      <td>38</td>\n",
       "      <td>6828569489</td>\n",
       "      <td>James_Blake@gmail.com</td>\n",
       "    </tr>\n",
       "  </tbody>\n",
       "</table>\n",
       "</div>"
      ],
      "text/plain": [
       "   _id              name  age       phone                       email\n",
       "0    1         Juan_Ivan   24  5538184717      coldcram14@hotmail.com\n",
       "1    2      Winona_Ryder   38  8638184897      Winona_Ryder@gmail.com\n",
       "2    3       Paul_Bremer   50  2333249489       Paul_Bremer@gmail.com\n",
       "3    4  Jennifer_Aniston   45  6821549489  Jennifer_Aniston@gmail.com\n",
       "4    5       James_Blake   38  6828569489       James_Blake@gmail.com"
      ]
     },
     "execution_count": 12,
     "metadata": {},
     "output_type": "execute_result"
    }
   ],
   "source": [
    "dic = pd.DataFrame(dicts)\n",
    "dic.head()"
   ]
  },
  {
   "cell_type": "code",
   "execution_count": 14,
   "metadata": {},
   "outputs": [],
   "source": [
    "#dic.to_csv('buyer_information.csv')"
   ]
  },
  {
   "cell_type": "code",
   "execution_count": null,
   "metadata": {},
   "outputs": [],
   "source": []
  }
 ],
 "metadata": {
  "kernelspec": {
   "display_name": "Python 3",
   "language": "python",
   "name": "python3"
  },
  "language_info": {
   "codemirror_mode": {
    "name": "ipython",
    "version": 3
   },
   "file_extension": ".py",
   "mimetype": "text/x-python",
   "name": "python",
   "nbconvert_exporter": "python",
   "pygments_lexer": "ipython3",
   "version": "3.7.4"
  }
 },
 "nbformat": 4,
 "nbformat_minor": 2
}
